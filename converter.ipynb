{
 "cells": [
  {
   "cell_type": "code",
   "execution_count": 6,
   "metadata": {},
   "outputs": [],
   "source": [
    "from pandas import read_csv\n",
    "import re\n",
    "import collections"
   ]
  },
  {
   "cell_type": "code",
   "execution_count": 7,
   "metadata": {},
   "outputs": [
    {
     "name": "stdout",
     "output_type": "stream",
     "text": [
      "{'/it-managed-services-and-outsourcing/': ['may/49', 'sing/11', 'aus/4', 'hk/3'], '/print-mailing-inserter-and-sortation/': ['sing/43', 'may/42', 'aus/11', 'hk/6'], '/smartech-product-category/postage-meter/': ['may/26', 'sing/24', 'hk/12', 'aus/2'], '/smartech-product-category/ink-cartridge-supplies/': ['sing/25', 'aus/1', 'hk/0', 'may/0'], '/smartech-product-category/desktop-inserters/': ['may/9', 'hk/3', 'sing/2', 'aus/1'], '/office-automation-supplies/': ['sing/7', 'aus/2', 'may/1', 'hk/0'], '/smartech-product-category/bank-note-counter/': ['aus/6', 'sing/2', 'hk/0', 'may/0'], '/hotels-technology-solutions/': ['aus/4', 'may/2', 'hk/0', 'sing/0'], '/smartech-product-category/pitney-bowes-dmt-mail-sortation-equipments/': ['sing/4', 'may/1', 'hk/0', 'aus/0'], '/smartech-products/nc-7100/': ['sing/4', 'aus/2', 'hk/0', 'may/0'], '/smartech-products/neopost-is350-postage-meter/': ['hk/4', 'sing/1', 'may/0', 'aus/0'], '/business-systems-relocation-services/': ['sing/3', 'may/2', 'hk/0', 'aus/0'], '/smartech-products/email-marketing-services/': ['sing/3', 'aus/1', 'hk/0', 'may/0'], '/smartech-products/nc-6500/': ['aus/3', 'hk/0', 'sing/0', 'may/0'], '/smartech-products/data-encryption/': ['sing/2', 'may/1', 'hk/0', 'aus/0'], '/smartech-products/nc3500/': ['aus/2', 'hk/0', 'sing/0', 'may/0'], '/smartech-products/neopost-is280e-postage-meter/': ['sing/2', 'hk/0', 'may/0', 'aus/0'], '/smartech-products/neopost-is420-postage-meter/': ['sing/2', 'hk/0', 'may/0', 'aus/0'], '/smartech-products/truesort/': ['may/2', 'sing/1', 'hk/0', 'aus/0'], '/smartech-product-category/shredder/': ['aus/1', 'hk/0', 'sing/0', 'may/0'], '/smartech-products/application-development-mobile-and-digital/': ['aus/1', 'may/1', 'hk/0', 'sing/0'], '/smartech-products/electronic-data-interchange/': ['sing/1', 'hk/0', 'may/0', 'aus/0'], '/smartech-products/ink-cartridge-consumables-hong-kong/': ['hk/1', 'sing/0', 'may/0', 'aus/0'], '/smartech-products/pitney-bowes-relay-2000-inserting-system/': ['sing/1', 'hk/0', 'may/0', 'aus/0'], '/smartech-products/smart-fingerprint-reader/': ['aus/1', 'hk/0', 'sing/0', 'may/0'], '/smartech-products/smartech-singapore-ink-cartridge-consumables-order-form/': ['sing/1', 'hk/0', 'may/0', 'aus/0'], '/wp-content/uploads/2019/11/SUPPLIES-ORDER-FORM-NOV-2019.pdf': ['sing/1', 'hk/0', 'may/0', 'aus/0']}\n",
      "{'/it-managed-services-and-outsourcing/': ['4', '3', '49', '11'], '/print-mailing-inserter-and-sortation/': ['11', '6', '42', '43'], '/smartech-product-category/postage-meter/': ['2', '12', '26', '24'], '/smartech-product-category/ink-cartridge-supplies/': ['1', '0', '0', '25'], '/smartech-product-category/desktop-inserters/': ['1', '3', '9', '2'], '/office-automation-supplies/': ['2', '0', '1', '7'], '/smartech-product-category/bank-note-counter/': ['6', '0', '0', '2'], '/hotels-technology-solutions/': ['4', '0', '2', '0'], '/smartech-product-category/pitney-bowes-dmt-mail-sortation-equipments/': ['0', '0', '1', '4'], '/smartech-products/nc-7100/': ['2', '0', '0', '4'], '/smartech-products/neopost-is350-postage-meter/': ['0', '4', '0', '1'], '/business-systems-relocation-services/': ['0', '0', '2', '3'], '/smartech-products/email-marketing-services/': ['1', '0', '0', '3'], '/smartech-products/nc-6500/': ['3', '0', '0', '0'], '/smartech-products/data-encryption/': ['0', '0', '1', '2'], '/smartech-products/nc3500/': ['2', '0', '0', '0'], '/smartech-products/neopost-is280e-postage-meter/': ['0', '0', '0', '2'], '/smartech-products/neopost-is420-postage-meter/': ['0', '0', '0', '2'], '/smartech-products/truesort/': ['0', '0', '2', '1'], '/smartech-product-category/shredder/': ['1', '0', '0', '0'], '/smartech-products/application-development-mobile-and-digital/': ['1', '0', '1', '0'], '/smartech-products/electronic-data-interchange/': ['0', '0', '0', '1'], '/smartech-products/ink-cartridge-consumables-hong-kong/': ['0', '1', '0', '0'], '/smartech-products/pitney-bowes-relay-2000-inserting-system/': ['0', '0', '0', '1'], '/smartech-products/smart-fingerprint-reader/': ['1', '0', '0', '0'], '/smartech-products/smartech-singapore-ink-cartridge-consumables-order-form/': ['0', '0', '0', '1'], '/wp-content/uploads/2019/11/SUPPLIES-ORDER-FORM-NOV-2019.pdf': ['0', '0', '0', '1']}\n"
     ]
    }
   ],
   "source": [
    "l1=['Singapore','Hong Kong','Malaysia','Australia']\n",
    "l2 = [\"/\",\"/about-us/\",\"/contact-us/\",\"/blog/\",\"/important-update-on-postage-meter/\",\"/three-trends-to-dominate-the-print-industry/\",\"/how-postage-meters-impact-business-productivity/\",\"/?preview_id=2&preview_nonce=f9368dea3b&_thumbnail_id=-1&preview=true\",\"/?s=cartridge\",\"/category/print/\",\"/category/tech/\",\"/index.html/\",\"/three-reasons-for-smes-to-invest-in-it-managed-services/\"]\n",
    "l3=[]\n",
    "dic={}\n",
    "dic1={}\n",
    "dic2={}\n",
    "data = read_csv('Analytics All Web Site Data Pages 20200217-20200223.csv',header=0)\n",
    "for i in range(0,data.shape[0]):\n",
    "    x = str(data.iloc[i].values[0])\n",
    "    y = str(data.iloc[i].values[1])\n",
    "    z = data.iloc[i].values[2]\n",
    "    if x not in l2:\n",
    "        if x in dic:\n",
    "                  dic[x].append(z)\n",
    "        else:\n",
    "                  dic[x]=[z]\n",
    "        if x in dic2:\n",
    "            if y == \"Singapore\":\n",
    "                  dic2[x].append('sing/'+str(z))\n",
    "            if y == \"Hong Kong\":\n",
    "                  dic2[x].append('hk/'+str(z))\n",
    "            if y == \"Malaysia\":\n",
    "                  dic2[x].append('may/'+str(z))\n",
    "            if y == \"Australia\":\n",
    "                  dic2[x].append('aus/'+str(z))\n",
    "        else:\n",
    "            if y == \"Singapore\":\n",
    "                  dic2[x]=['sing/'+str(z)]\n",
    "            if y == \"Hong Kong\":\n",
    "                  dic2[x]=['hk/'+str(z)]\n",
    "            if y == \"Malaysia\":\n",
    "                  dic2[x]=['may/'+str(z)]\n",
    "            if y == \"Australia\":\n",
    "                  dic2[x]=['aus/'+str(z)]\n",
    "        \n",
    "#print(dic)\n",
    "#print(dic2)\n",
    "for i in dic2.keys():\n",
    "    t = dic2[i]\n",
    "    t1 = \"\".join(t)\n",
    "    if re.search(r'hk', t1)==None:\n",
    "        t.append('hk/0')\n",
    "    if re.search(r'sing', t1)==None:\n",
    "        t.append('sing/0')\n",
    "    if re.search(r'may', t1)==None:\n",
    "        t.append('may/0')\n",
    "    if re.search(r'aus', t1)==None:\n",
    "        t.append('aus/0')\n",
    "    dic2[i]=t\n",
    "\n",
    "print(dic2)\n",
    "for i in dic2.keys():\n",
    "    dic2[i]=sorted((dic2[i]))\n",
    "    for k in dic2[i]:\n",
    "        k=k.split('/')[-1]\n",
    "        #print(k)\n",
    "        l3.append(k)\n",
    "    dic2[i]=l3\n",
    "    l3=[]\n",
    "print (dic2)"
   ]
  },
  {
   "cell_type": "code",
   "execution_count": 8,
   "metadata": {},
   "outputs": [
    {
     "name": "stdout",
     "output_type": "stream",
     "text": [
      "{'/it-managed-services-and-outsourcing/': 79, '/print-mailing-inserter-and-sortation/': 126, '/smartech-product-category/postage-meter/': 68, '/smartech-product-category/ink-cartridge-supplies/': 26, '/smartech-product-category/desktop-inserters/': 17, '/office-automation-supplies/': 11, '/smartech-product-category/bank-note-counter/': 8, '/hotels-technology-solutions/': 7, '/smartech-product-category/pitney-bowes-dmt-mail-sortation-equipments/': 9, '/smartech-products/nc-7100/': 6, '/smartech-products/neopost-is350-postage-meter/': 5, '/business-systems-relocation-services/': 7, '/smartech-products/email-marketing-services/': 4, '/smartech-products/nc-6500/': 5, '/smartech-products/truesort/': 6, '/smartech-products/data-encryption/': 3, '/smartech-products/nc3500/': 2, '/smartech-products/neopost-is280e-postage-meter/': 2, '/smartech-products/neopost-is420-postage-meter/': 2, '/smartech-products/onesortautomated-data-capture-solutions/': 3, '/smartech-products/pitney-bowes-relay-5000-inserting-system/': 2, '/smartech-products/pitney-bowes-relay-7000-inserting-system/': 2, '/smartech-products/varisortmixed-mail-sorter/': 3, '/smartech-product-category/shredder/': 1, '/smartech-products/application-development-mobile-and-digital/': 3, '/smartech-products/electronic-data-interchange/': 1, '/smartech-products/ink-cartridge-consumables-hong-kong/': 1, '/smartech-products/neopost-ds200i-inserting-system/': 1, '/smartech-products/neopost-ds64i-inserting-system/': 1, '/smartech-products/pitney-bowes-relay-2000-inserting-system/': 1, '/smartech-products/smart-fingerprint-reader/': 1, '/smartech-products/smartech-singapore-ink-cartridge-consumables-order-form/': 1, '/smartech-products/vantage-sorting-solution/': 1, '/wp-content/uploads/2019/11/SUPPLIES-ORDER-FORM-NOV-2019.pdf': 1}\n"
     ]
    }
   ],
   "source": [
    "for i in dic.keys():\n",
    "    d = dic[i]\n",
    "    s= sum(d)\n",
    "    dic1[i]=s\n",
    "print(dic1)"
   ]
  },
  {
   "cell_type": "code",
   "execution_count": 9,
   "metadata": {},
   "outputs": [
    {
     "name": "stdout",
     "output_type": "stream",
     "text": [
      "{'/it-managed-services-and-outsourcing/': ['4', '3', '49', '11', '79'], '/print-mailing-inserter-and-sortation/': ['11', '6', '42', '43', '126'], '/smartech-product-category/postage-meter/': ['2', '12', '26', '24', '68'], '/smartech-product-category/ink-cartridge-supplies/': ['1', '0', '0', '25', '26'], '/smartech-product-category/desktop-inserters/': ['1', '3', '9', '2', '17'], '/office-automation-supplies/': ['2', '0', '1', '7', '11'], '/smartech-product-category/bank-note-counter/': ['6', '0', '0', '2', '8'], '/hotels-technology-solutions/': ['4', '0', '2', '0', '7'], '/smartech-product-category/pitney-bowes-dmt-mail-sortation-equipments/': ['0', '0', '1', '4', '9'], '/smartech-products/nc-7100/': ['2', '0', '0', '4', '6'], '/smartech-products/neopost-is350-postage-meter/': ['0', '4', '0', '1', '5'], '/business-systems-relocation-services/': ['0', '0', '2', '3', '7'], '/smartech-products/email-marketing-services/': ['1', '0', '0', '3', '4'], '/smartech-products/nc-6500/': ['3', '0', '0', '0', '5'], '/smartech-products/data-encryption/': ['0', '0', '1', '2', '3'], '/smartech-products/nc3500/': ['2', '0', '0', '0', '2'], '/smartech-products/neopost-is280e-postage-meter/': ['0', '0', '0', '2', '2'], '/smartech-products/neopost-is420-postage-meter/': ['0', '0', '0', '2', '2'], '/smartech-products/truesort/': ['0', '0', '2', '1', '6'], '/smartech-product-category/shredder/': ['1', '0', '0', '0', '1'], '/smartech-products/application-development-mobile-and-digital/': ['1', '0', '1', '0', '3'], '/smartech-products/electronic-data-interchange/': ['0', '0', '0', '1', '1'], '/smartech-products/ink-cartridge-consumables-hong-kong/': ['0', '1', '0', '0', '1'], '/smartech-products/pitney-bowes-relay-2000-inserting-system/': ['0', '0', '0', '1', '1'], '/smartech-products/smart-fingerprint-reader/': ['1', '0', '0', '0', '1'], '/smartech-products/smartech-singapore-ink-cartridge-consumables-order-form/': ['0', '0', '0', '1', '1'], '/wp-content/uploads/2019/11/SUPPLIES-ORDER-FORM-NOV-2019.pdf': ['0', '0', '0', '1', '1']}\n"
     ]
    }
   ],
   "source": [
    "for i in dic1.keys():\n",
    "    #print(dic1[i])\n",
    "    if i in dic2.keys():\n",
    "        #print('yeah')\n",
    "        dic2[i].append(str(dic1[i]))\n",
    "print(dic2)"
   ]
  },
  {
   "cell_type": "code",
   "execution_count": 10,
   "metadata": {},
   "outputs": [],
   "source": [
    "l=[]\n",
    "product=[]\n",
    "aus=[]\n",
    "hk=[]\n",
    "may=[]\n",
    "sing=[]\n",
    "total=[]\n",
    "import pandas as pd\n",
    "data=pd.DataFrame\n",
    "for i in dic2.keys():\n",
    "    l.append(i)\n",
    "    for k in dic2[i]:\n",
    "        l.append(k)\n",
    "    product.append(l[0])  \n",
    "    aus.append(l[1])\n",
    "    hk.append(l[2])\n",
    "    may.append(l[3])\n",
    "    sing.append(l[4])\n",
    "    total.append(l[5])\n",
    "    l=[]\n",
    "    \n",
    "data=pd.DataFrame(data=list(product),columns=['Product'])\n",
    "data['Australia']=aus\n",
    "data['Hongkong']=hk\n",
    "data['Malaysia']=may\n",
    "data['Singapore']=sing\n",
    "data['Total']=total\n",
    "data.to_csv('result2.csv',mode='w',header=True)\n",
    "#print(data['Total'])"
   ]
  },
  {
   "cell_type": "code",
   "execution_count": null,
   "metadata": {},
   "outputs": [],
   "source": []
  },
  {
   "cell_type": "code",
   "execution_count": null,
   "metadata": {},
   "outputs": [],
   "source": []
  }
 ],
 "metadata": {
  "kernelspec": {
   "display_name": "Python 3",
   "language": "python",
   "name": "python3"
  },
  "language_info": {
   "codemirror_mode": {
    "name": "ipython",
    "version": 3
   },
   "file_extension": ".py",
   "mimetype": "text/x-python",
   "name": "python",
   "nbconvert_exporter": "python",
   "pygments_lexer": "ipython3",
   "version": "3.7.3"
  }
 },
 "nbformat": 4,
 "nbformat_minor": 2
}
